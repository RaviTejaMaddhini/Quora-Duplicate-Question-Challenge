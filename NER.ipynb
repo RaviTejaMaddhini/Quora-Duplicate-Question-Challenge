{
 "cells": [
  {
   "cell_type": "code",
   "execution_count": 8,
   "metadata": {},
   "outputs": [
    {
     "name": "stdout",
     "output_type": "stream",
     "text": [
      "DataExploration.ipynb  pos2.csv\t\t\t  test.csv\r\n",
      "Model.ipynb\t       posiou.csv\t\t  test.csv.zip\r\n",
      "new_04_train.csv       POS_TAG_IOU.ipynb\t  train.csv\r\n",
      "new_7_train.csv        reference.csv\t\t  train.csv.zip\r\n",
      "new_8_train.csv        sample_submission.csv.zip  Untitled.ipynb\r\n",
      "pos1.csv\t       Stemming.ipynb\r\n"
     ]
    }
   ],
   "source": [
    "import pandas as pd\n",
    "import numpy as np \n",
    "import os \n",
    "from tqdm import tqdm\n",
    "from multiprocessing import Pool\n",
    "import pickle\n",
    "!ls"
   ]
  },
  {
   "cell_type": "code",
   "execution_count": 2,
   "metadata": {},
   "outputs": [],
   "source": [
    "import spacy\n",
    "nlp=spacy.load(\"en_core_web_sm\")"
   ]
  },
  {
   "cell_type": "code",
   "execution_count": null,
   "metadata": {},
   "outputs": [],
   "source": [
    "df=pd.read_csv(\"new_8_train.csv\")\n",
    "df.shape\n",
    "df.columns"
   ]
  },
  {
   "cell_type": "code",
   "execution_count": 4,
   "metadata": {},
   "outputs": [],
   "source": [
    "def ner_tagger(q1,q2):\n",
    "    \n",
    "    doc1=nlp(q1.lower())\n",
    "    out1=[(x.text,x.label_) for x in doc1.ents]\n",
    "    \n",
    "    doc2=nlp(q2.lower())\n",
    "    out2=[(x.text,x.label_) for x in doc2.ents]\n",
    "    \n",
    "    return (out1,out2)"
   ]
  },
  {
   "cell_type": "code",
   "execution_count": 5,
   "metadata": {},
   "outputs": [
    {
     "name": "stderr",
     "output_type": "stream",
     "text": [
      "404287it [2:44:30, 40.96it/s]\n"
     ]
    }
   ],
   "source": [
    "ref=zip(df['question1'],df['question2'])\n",
    "\n",
    "out1=[]\n",
    "out2=[]\n",
    "for i in tqdm(ref):\n",
    "    out=ner_tagger(i[0],i[1])\n",
    "    out1.append(out[0])\n",
    "    out2.append(out[1])"
   ]
  },
  {
   "cell_type": "code",
   "execution_count": 9,
   "metadata": {},
   "outputs": [],
   "source": [
    "with open(\"/home/ravi/Downloads/quora-question-pairs/ner1.dat\",\"wb\") as f:\n",
    "    pickle.dump(out1,f)\n",
    "    f.close()"
   ]
  },
  {
   "cell_type": "code",
   "execution_count": 10,
   "metadata": {},
   "outputs": [],
   "source": [
    "with open(\"/home/ravi/Downloads/quora-question-pairs/ner2.dat\",\"wb\") as f:\n",
    "    pickle.dump(out2,f)\n",
    "    f.close()"
   ]
  },
  {
   "cell_type": "code",
   "execution_count": 19,
   "metadata": {},
   "outputs": [],
   "source": [
    "def countEvents(x):\n",
    "    out={}\n",
    "    for i in x:\n",
    "        if i not in out.keys():\n",
    "            out[i[1]]=+1\n",
    "        else:\n",
    "            out[i[1]]+=1\n",
    "    return out"
   ]
  },
  {
   "cell_type": "code",
   "execution_count": 27,
   "metadata": {},
   "outputs": [
    {
     "data": {
      "text/plain": [
       "Index(['q1GPE', 'q1CARDINAL', 'q1ORG', 'q1NORP', 'q1ORDINAL', 'q1PRODUCT',\n",
       "       'q1PERSON', 'q1TIME', 'q1DATE', 'q1LANGUAGE', 'q1QUANTITY',\n",
       "       'q1WORK_OF_ART', 'q1MONEY', 'q1LOC', 'q1FAC', 'q1EVENT', 'q1PERCENT',\n",
       "       'q1LAW'],\n",
       "      dtype='object')"
      ]
     },
     "execution_count": 27,
     "metadata": {},
     "output_type": "execute_result"
    }
   ],
   "source": [
    "df1=[]\n",
    "for i in tqdm(out1):\n",
    "    df1.append(countEvents(i))\n",
    "\n",
    "df1=pd.DataFrame(df1)\n",
    "df1.fillna(0,inplace=True)\n",
    "df1.head(5)\n",
    "\n",
    "columns=df1.columns\n",
    "df1.columns=[\"q1\"+x for x in columns]\n",
    "df1.columns"
   ]
  },
  {
   "cell_type": "code",
   "execution_count": 31,
   "metadata": {},
   "outputs": [
    {
     "data": {
      "text/plain": [
       "Index(['q2NORP', 'q2ORG', 'q2ORDINAL', 'q2GPE', 'q2PERSON', 'q2CARDINAL',\n",
       "       'q2TIME', 'q2DATE', 'q2LANGUAGE', 'q2MONEY', 'q2WORK_OF_ART',\n",
       "       'q2QUANTITY', 'q2LOC', 'q2PRODUCT', 'q2LAW', 'q2EVENT', 'q2PERCENT',\n",
       "       'q2FAC'],\n",
       "      dtype='object')"
      ]
     },
     "execution_count": 31,
     "metadata": {},
     "output_type": "execute_result"
    }
   ],
   "source": [
    "df2=[]\n",
    "for i in tqdm(out2):\n",
    "    df2.append(countEvents(i))\n",
    "\n",
    "df2=pd.DataFrame(df2)\n",
    "df2.fillna(0,inplace=True)\n",
    "df2.head(5)\n",
    "\n",
    "columns=df2.columns\n",
    "df2.columns=[\"q2\"+x for x in columns]\n",
    "df2.columns"
   ]
  },
  {
   "cell_type": "code",
   "execution_count": 47,
   "metadata": {},
   "outputs": [],
   "source": [
    "def nerIOU(x,y):\n",
    "    q1={}\n",
    "    for i in x:\n",
    "        if i[1] in q1.keys():\n",
    "            q1[i[1]].append(i[0])\n",
    "        else:\n",
    "            q1[i[1]]=[i[0]]\n",
    "    q2={}\n",
    "    for i in y:\n",
    "        if i[1] in q2.keys():\n",
    "            q2[i[1]].append(i[0])\n",
    "        else:\n",
    "            q2[i[1]]=[i[0]]\n",
    "    \n",
    "    outputs={}\n",
    "    for key in q1.keys():\n",
    "        if key not in q2.keys():\n",
    "            continue\n",
    "        else:\n",
    "            q1set=set(q1[key])\n",
    "            q2set=set(q2[key])\n",
    "            iou=len(q1set.intersection(q2set))/len(q1set.union(q2set))\n",
    "            outputs[key]=iou\n",
    "    return outputs\n",
    "            "
   ]
  },
  {
   "cell_type": "code",
   "execution_count": 48,
   "metadata": {},
   "outputs": [
    {
     "name": "stderr",
     "output_type": "stream",
     "text": [
      "404287it [00:00, 457794.17it/s]\n"
     ]
    }
   ],
   "source": [
    "dfiou=[]\n",
    "for x in tqdm(zip(out1,out2)):\n",
    "    dfiou.append(nerIOU(x[0],x[1]))"
   ]
  },
  {
   "cell_type": "code",
   "execution_count": 50,
   "metadata": {},
   "outputs": [],
   "source": [
    "dfiou=pd.DataFrame(dfiou)"
   ]
  },
  {
   "cell_type": "code",
   "execution_count": 53,
   "metadata": {},
   "outputs": [],
   "source": [
    "dfiou.fillna(-1,inplace=True)"
   ]
  },
  {
   "cell_type": "code",
   "execution_count": 51,
   "metadata": {},
   "outputs": [
    {
     "name": "stdout",
     "output_type": "stream",
     "text": [
      "(404287, 18)\n",
      "(404287, 18)\n",
      "(404287, 18)\n"
     ]
    }
   ],
   "source": [
    "print(df1.shape)\n",
    "print(df2.shape)\n",
    "print(dfiou.shape)"
   ]
  },
  {
   "cell_type": "code",
   "execution_count": 55,
   "metadata": {},
   "outputs": [
    {
     "name": "stdout",
     "output_type": "stream",
     "text": [
      "Index(['ORG', 'ORDINAL', 'GPE', 'PERSON', 'CARDINAL', 'TIME', 'DATE', 'NORP',\n",
      "       'LANGUAGE', 'MONEY', 'LOC', 'WORK_OF_ART', 'QUANTITY', 'EVENT',\n",
      "       'PERCENT', 'LAW', 'PRODUCT', 'FAC'],\n",
      "      dtype='object')\n",
      "Index(['iouORG', 'iouORDINAL', 'iouGPE', 'iouPERSON', 'iouCARDINAL', 'iouTIME',\n",
      "       'iouDATE', 'iouNORP', 'iouLANGUAGE', 'iouMONEY', 'iouLOC',\n",
      "       'iouWORK_OF_ART', 'iouQUANTITY', 'iouEVENT', 'iouPERCENT', 'iouLAW',\n",
      "       'iouPRODUCT', 'iouFAC'],\n",
      "      dtype='object')\n"
     ]
    }
   ],
   "source": [
    "print(dfiou.columns)\n",
    "dfiou.columns=[\"iou\"+x for x in dfiou.columns]\n",
    "print(dfiou.columns)"
   ]
  },
  {
   "cell_type": "code",
   "execution_count": 56,
   "metadata": {},
   "outputs": [
    {
     "name": "stdout",
     "output_type": "stream",
     "text": [
      "(404287, 54)\n"
     ]
    }
   ],
   "source": [
    "final_df=pd.concat([df1,df2,dfiou],axis=1)\n",
    "print(final_df.shape)"
   ]
  },
  {
   "cell_type": "code",
   "execution_count": 77,
   "metadata": {},
   "outputs": [
    {
     "name": "stdout",
     "output_type": "stream",
     "text": [
      "Which is less healthy for your body, beer or Pepsi?\n",
      "[('pepsi', 'ORG')]\n",
      "Which is less healthy for your body light beer or Pepsi?\n",
      "[('pepsi', 'ORG')]\n",
      "q1GPE             0.0\n",
      "q1CARDINAL        0.0\n",
      "q1ORG             1.0\n",
      "q1NORP            0.0\n",
      "q1ORDINAL         0.0\n",
      "q1PRODUCT         0.0\n",
      "q1PERSON          0.0\n",
      "q1TIME            0.0\n",
      "q1DATE            0.0\n",
      "q1LANGUAGE        0.0\n",
      "q1QUANTITY        0.0\n",
      "q1WORK_OF_ART     0.0\n",
      "q1MONEY           0.0\n",
      "q1LOC             0.0\n",
      "q1FAC             0.0\n",
      "q1EVENT           0.0\n",
      "q1PERCENT         0.0\n",
      "q1LAW             0.0\n",
      "q2NORP            0.0\n",
      "q2ORG             1.0\n",
      "q2ORDINAL         0.0\n",
      "q2GPE             0.0\n",
      "q2PERSON          0.0\n",
      "q2CARDINAL        0.0\n",
      "q2TIME            0.0\n",
      "q2DATE            0.0\n",
      "q2LANGUAGE        0.0\n",
      "q2MONEY           0.0\n",
      "q2WORK_OF_ART     0.0\n",
      "q2QUANTITY        0.0\n",
      "q2LOC             0.0\n",
      "q2PRODUCT         0.0\n",
      "q2LAW             0.0\n",
      "q2EVENT           0.0\n",
      "q2PERCENT         0.0\n",
      "q2FAC             0.0\n",
      "iouORG            1.0\n",
      "iouORDINAL       -1.0\n",
      "iouGPE           -1.0\n",
      "iouPERSON        -1.0\n",
      "iouCARDINAL      -1.0\n",
      "iouTIME          -1.0\n",
      "iouDATE          -1.0\n",
      "iouNORP          -1.0\n",
      "iouLANGUAGE      -1.0\n",
      "iouMONEY         -1.0\n",
      "iouLOC           -1.0\n",
      "iouWORK_OF_ART   -1.0\n",
      "iouQUANTITY      -1.0\n",
      "iouEVENT         -1.0\n",
      "iouPERCENT       -1.0\n",
      "iouLAW           -1.0\n",
      "iouPRODUCT       -1.0\n",
      "iouFAC           -1.0\n",
      "Name: 1002, dtype: float64\n"
     ]
    }
   ],
   "source": [
    "q1=df.question1.iloc[1002]\n",
    "print(q1)\n",
    "doc1=nlp(q1.lower())\n",
    "out1=[(x.text,x.label_) for x in doc1.ents]\n",
    "print(out1)\n",
    "q2=df.question2.iloc[1002]\n",
    "print(q2)\n",
    "doc2=nlp(q2.lower())\n",
    "out2=[(x.text,x.label_) for x in doc2.ents]\n",
    "print(out2)\n",
    "print(final_df.iloc[1002])"
   ]
  },
  {
   "cell_type": "code",
   "execution_count": 78,
   "metadata": {},
   "outputs": [],
   "source": [
    "final_df.to_csv(\"NER.csv\",index=None)"
   ]
  }
 ],
 "metadata": {
  "kernelspec": {
   "display_name": "Python 3",
   "language": "python",
   "name": "python3"
  },
  "language_info": {
   "codemirror_mode": {
    "name": "ipython",
    "version": 3
   },
   "file_extension": ".py",
   "mimetype": "text/x-python",
   "name": "python",
   "nbconvert_exporter": "python",
   "pygments_lexer": "ipython3",
   "version": "3.6.9"
  }
 },
 "nbformat": 4,
 "nbformat_minor": 4
}
