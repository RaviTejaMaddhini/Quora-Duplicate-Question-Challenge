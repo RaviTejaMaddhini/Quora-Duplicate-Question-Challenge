{
 "cells": [
  {
   "cell_type": "code",
   "execution_count": 1,
   "metadata": {},
   "outputs": [],
   "source": [
    "import os \n",
    "import pandas as pd\n",
    "import numpy as np \n",
    "os.chdir(\"/home/ravi/Downloads/quora-question-pairs/\")"
   ]
  },
  {
   "cell_type": "markdown",
   "metadata": {},
   "source": [
    "# Train Data Exploration"
   ]
  },
  {
   "cell_type": "code",
   "execution_count": 2,
   "metadata": {},
   "outputs": [],
   "source": [
    "df=pd.read_csv(\"train.csv\")"
   ]
  },
  {
   "cell_type": "code",
   "execution_count": 3,
   "metadata": {},
   "outputs": [
    {
     "data": {
      "text/plain": [
       "(404290, 6)"
      ]
     },
     "execution_count": 3,
     "metadata": {},
     "output_type": "execute_result"
    }
   ],
   "source": [
    "df.shape"
   ]
  },
  {
   "cell_type": "code",
   "execution_count": 4,
   "metadata": {},
   "outputs": [
    {
     "data": {
      "text/plain": [
       "Index(['id', 'qid1', 'qid2', 'question1', 'question2', 'is_duplicate'], dtype='object')"
      ]
     },
     "execution_count": 4,
     "metadata": {},
     "output_type": "execute_result"
    }
   ],
   "source": [
    "df.columns"
   ]
  },
  {
   "cell_type": "code",
   "execution_count": 5,
   "metadata": {},
   "outputs": [],
   "source": [
    "df.drop(['qid1','qid2','id'],axis=1,inplace=True)"
   ]
  },
  {
   "cell_type": "markdown",
   "metadata": {},
   "source": [
    "# Class Imbalance\n",
    "class imbalance is present in the target value\n",
    "We have 255027 samples of different questions and 149263 of duplicate questions"
   ]
  },
  {
   "cell_type": "code",
   "execution_count": 6,
   "metadata": {},
   "outputs": [
    {
     "data": {
      "text/plain": [
       "0    255027\n",
       "1    149263\n",
       "Name: is_duplicate, dtype: int64"
      ]
     },
     "execution_count": 6,
     "metadata": {},
     "output_type": "execute_result"
    }
   ],
   "source": [
    "df.is_duplicate.value_counts()"
   ]
  },
  {
   "cell_type": "code",
   "execution_count": 7,
   "metadata": {},
   "outputs": [
    {
     "data": {
      "text/plain": [
       "<matplotlib.axes._subplots.AxesSubplot at 0x7fef235f4b38>"
      ]
     },
     "execution_count": 7,
     "metadata": {},
     "output_type": "execute_result"
    },
    {
     "data": {
      "image/png": "[encoded data removed]",
      "text/plain": [
       "<Figure size 432x288 with 1 Axes>"
      ]
     },
     "metadata": {
      "needs_background": "light"
     },
     "output_type": "display_data"
    }
   ],
   "source": [
    "df.is_duplicate.value_counts().sort_values().plot(kind = 'bar')"
   ]
  },
  {
   "cell_type": "code",
   "execution_count": 8,
   "metadata": {},
   "outputs": [
    {
     "name": "stdout",
     "output_type": "stream",
     "text": [
      "Shape before dropping the duplicates : (404290, 3)\n",
      "Shape after dropping the duplicates : (404290, 3)\n"
     ]
    }
   ],
   "source": [
    "#seems there are no duplicates in the training data, lets check for question wise duplicates\n",
    "print(f\"Shape before dropping the duplicates : {df.shape}\")\n",
    "print(f\"Shape after dropping the duplicates : {df.drop_duplicates().shape}\")"
   ]
  },
  {
   "cell_type": "code",
   "execution_count": 9,
   "metadata": {},
   "outputs": [
    {
     "name": "stdout",
     "output_type": "stream",
     "text": [
      "No of unique questions in question1 columns (290457,)\n",
      "No of unique questions in question2 columns (299175,)\n"
     ]
    }
   ],
   "source": [
    "# There are duplicated questions in both of the question columns ,but they are forming different pairs\n",
    "print(f\"No of unique questions in question1 columns {df.question1.drop_duplicates().shape}\")\n",
    "print(f\"No of unique questions in question2 columns {df.question2.drop_duplicates().shape}\")"
   ]
  },
  {
   "cell_type": "code",
   "execution_count": 10,
   "metadata": {
    "scrolled": true
   },
   "outputs": [
    {
     "name": "stdout",
     "output_type": "stream",
     "text": [
      "How do I improve my English speaking?                                                                         50\n",
      "How does the ban on 500 and 1000 rupee notes helps to identify black money and corruption?                    48\n",
      "What should I do to earn money online?                                                                        47\n",
      "How do I improve my English language?                                                                         47\n",
      "How can changing 500 and 1000 rupee notes end the black money in India?                                       47\n",
      "                                                                                                              ..\n",
      "What are your favorite indie/alternative bands?                                                                1\n",
      "What API exists to control UAVs?                                                                               1\n",
      "How does the greenhouse effect contribute to climate change?                                                   1\n",
      "Why do I always feel cold in the morning right after I wake up? What can I do to avoid this?                   1\n",
      "What is the point of life? - I have my own take on this, but I would like to know what other people think.     1\n",
      "Name: question1, Length: 290456, dtype: int64\n"
     ]
    }
   ],
   "source": [
    "#Lets check how many times each question in question1 column is repeated\n",
    "print(df.question1.value_counts().sort_values(ascending=False))"
   ]
  },
  {
   "cell_type": "code",
   "execution_count": 11,
   "metadata": {
    "scrolled": true
   },
   "outputs": [
    {
     "name": "stdout",
     "output_type": "stream",
     "text": [
      "How can you look at someone's private Instagram account without following them?                                                                         120\n",
      "What are the best ways to lose weight?                                                                                                                  119\n",
      "How can I lose weight quickly?                                                                                                                          100\n",
      "What's the easiest way to make money online?                                                                                                             71\n",
      "What are some things new employees should know going into their first day at AT&T?                                                                       66\n",
      "                                                                                                                                                       ... \n",
      "How does Mad Max: Fury Road resonate with the newer, younger generation that's into Hunger Games, Divergent and other dystopian young adult stories?      1\n",
      "How do I prepare for an AIEEE and boards together?                                                                                                        1\n",
      "What's the best fantasy series I should read?                                                                                                             1\n",
      "What are the best schools/colleges/universities in digital signal processing for graduate level?                                                          1\n",
      "How is hostel life in cbit?                                                                                                                               1\n",
      "Name: question2, Length: 299174, dtype: int64\n"
     ]
    }
   ],
   "source": [
    "# Now checking for the questions in question2 column\n",
    "print(df.question2.value_counts().sort_values(ascending=False))"
   ]
  },
  {
   "cell_type": "code",
   "execution_count": 12,
   "metadata": {},
   "outputs": [
    {
     "data": {
      "text/html": [
       "<div>\n",
       "<style scoped>\n",
       "    .dataframe tbody tr th:only-of-type {\n",
       "        vertical-align: middle;\n",
       "    }\n",
       "\n",
       "    .dataframe tbody tr th {\n",
       "        vertical-align: top;\n",
       "    }\n",
       "\n",
       "    .dataframe thead th {\n",
       "        text-align: right;\n",
       "    }\n",
       "</style>\n",
       "<table border=\"1\" class=\"dataframe\">\n",
       "  <thead>\n",
       "    <tr style=\"text-align: right;\">\n",
       "      <th></th>\n",
       "      <th>question1</th>\n",
       "      <th>question2</th>\n",
       "      <th>is_duplicate</th>\n",
       "    </tr>\n",
       "  </thead>\n",
       "  <tbody>\n",
       "  </tbody>\n",
       "</table>\n",
       "</div>"
      ],
      "text/plain": [
       "Empty DataFrame\n",
       "Columns: [question1, question2, is_duplicate]\n",
       "Index: []"
      ]
     },
     "execution_count": 12,
     "metadata": {},
     "output_type": "execute_result"
    }
   ],
   "source": [
    "#Check are there any same questions in both rows and target value given as \"they are different\".Luckily we dont have any\n",
    "#of those samples\n",
    "df[(df['question1']==df['question2']) & (df['is_duplicate']==0)]"
   ]
  },
  {
   "cell_type": "code",
   "execution_count": 13,
   "metadata": {},
   "outputs": [
    {
     "name": "stdout",
     "output_type": "stream",
     "text": [
      "=========================\n",
      "Question1: What is the step by step guide to invest in share market in india?\n",
      "Question2: What is the step by step guide to invest in share market?\n",
      "Duplicate: 0\n",
      "=========================\n",
      "Question1: What is the story of Kohinoor (Koh-i-Noor) Diamond?\n",
      "Question2: What would happen if the Indian government stole the Kohinoor (Koh-i-Noor) diamond back?\n",
      "Duplicate: 0\n",
      "=========================\n",
      "Question1: How can I increase the speed of my internet connection while using a VPN?\n",
      "Question2: How can Internet speed be increased by hacking through DNS?\n",
      "Duplicate: 0\n",
      "=========================\n",
      "Question1: Why am I mentally very lonely? How can I solve it?\n",
      "Question2: Find the remainder when [math]23^{24}[/math] is divided by 24,23?\n",
      "Duplicate: 0\n",
      "=========================\n",
      "Question1: Which one dissolve in water quikly sugar, salt, methane and carbon di oxide?\n",
      "Question2: Which fish would survive in salt water?\n",
      "Duplicate: 0\n",
      "=========================\n",
      "Question1: Astrology: I am a Capricorn Sun Cap moon and cap rising...what does that say about me?\n",
      "Question2: I'm a triple Capricorn (Sun, Moon and ascendant in Capricorn) What does this say about me?\n",
      "Duplicate: 1\n",
      "=========================\n",
      "Question1: Should I buy tiago?\n",
      "Question2: What keeps childern active and far from phone and video games?\n",
      "Duplicate: 0\n",
      "=========================\n",
      "Question1: How can I be a good geologist?\n",
      "Question2: What should I do to be a great geologist?\n",
      "Duplicate: 1\n",
      "=========================\n",
      "Question1: When do you use シ instead of し?\n",
      "Question2: When do you use \"&\" instead of \"and\"?\n",
      "Duplicate: 0\n",
      "=========================\n",
      "Question1: Motorola (company): Can I hack my Charter Motorolla DCX3400?\n",
      "Question2: How do I hack Motorola DCX3400 for free internet?\n",
      "Duplicate: 0\n",
      "=========================\n",
      "Question1: Method to find separation of slits using fresnel biprism?\n",
      "Question2: What are some of the things technicians can tell about the durability and reliability of Laptops and its components?\n",
      "Duplicate: 0\n",
      "=========================\n",
      "Question1: How do I read and find my YouTube comments?\n",
      "Question2: How can I see all my Youtube comments?\n",
      "Duplicate: 1\n",
      "=========================\n",
      "Question1: What can make Physics easy to learn?\n",
      "Question2: How can you make physics easy to learn?\n",
      "Duplicate: 1\n",
      "=========================\n",
      "Question1: What was your first sexual experience like?\n",
      "Question2: What was your first sexual experience?\n",
      "Duplicate: 1\n",
      "=========================\n",
      "Question1: What are the laws to change your status from a student visa to a green card in the US, how do they compare to the immigration laws in Canada?\n",
      "Question2: What are the laws to change your status from a student visa to a green card in the US? How do they compare to the immigration laws in Japan?\n",
      "Duplicate: 0\n",
      "=========================\n",
      "Question1: What would a Trump presidency mean for current international master’s students on an F1 visa?\n",
      "Question2: How will a Trump presidency affect the students presently in US or planning to study in US?\n",
      "Duplicate: 1\n",
      "=========================\n",
      "Question1: What does manipulation mean?\n",
      "Question2: What does manipulation means?\n",
      "Duplicate: 1\n",
      "=========================\n",
      "Question1: Why do girls want to be friends with the guy they reject?\n",
      "Question2: How do guys feel after rejecting a girl?\n",
      "Duplicate: 0\n",
      "=========================\n",
      "Question1: Why are so many Quora users posting questions that are readily answered on Google?\n",
      "Question2: Why do people ask Quora questions which can be answered easily by Google?\n",
      "Duplicate: 1\n",
      "=========================\n",
      "Question1: Which is the best digital marketing institution in banglore?\n",
      "Question2: Which is the best digital marketing institute in Pune?\n",
      "Duplicate: 0\n",
      "=========================\n",
      "Question1: Why do rockets look white?\n",
      "Question2: Why are rockets and boosters painted white?\n",
      "Duplicate: 1\n",
      "=========================\n",
      "Question1: What's causing someone to be jealous?\n",
      "Question2: What can I do to avoid being jealous of someone?\n",
      "Duplicate: 0\n",
      "=========================\n",
      "Question1: What are the questions should not ask on Quora?\n",
      "Question2: Which question should I ask on Quora?\n",
      "Duplicate: 0\n",
      "=========================\n",
      "Question1: How much is 30 kV in HP?\n",
      "Question2: Where can I find a conversion chart for CC to horsepower?\n",
      "Duplicate: 0\n",
      "=========================\n",
      "Question1: What does it mean that every time I look at the clock the numbers are the same?\n",
      "Question2: How many times a day do a clock’s hands overlap?\n",
      "Duplicate: 0\n",
      "=========================\n",
      "Question1: What are some tips on making it through the job interview process at Medicines?\n",
      "Question2: What are some tips on making it through the job interview process at Foundation Medicine?\n",
      "Duplicate: 0\n"
     ]
    }
   ],
   "source": [
    "for i in df.itertuples():\n",
    "    print(\"=\"*25)\n",
    "    print(f\"Question1: {i.question1}\")\n",
    "    print(f\"Question2: {i.question2}\")\n",
    "    print(f\"Duplicate: {i.is_duplicate}\")\n",
    "    if i.Index==25:\n",
    "        break"
   ]
  },
  {
   "cell_type": "markdown",
   "metadata": {},
   "source": [
    "# Test Data Exploration"
   ]
  },
  {
   "cell_type": "code",
   "execution_count": 14,
   "metadata": {},
   "outputs": [
    {
     "name": "stdout",
     "output_type": "stream",
     "text": [
      "DataExploration.ipynb\t   test.csv\t train.csv\r\n",
      "sample_submission.csv.zip  test.csv.zip  train.csv.zip\r\n"
     ]
    }
   ],
   "source": [
    "!ls"
   ]
  },
  {
   "cell_type": "code",
   "execution_count": 15,
   "metadata": {},
   "outputs": [],
   "source": [
    "test=pd.read_csv('test.csv')"
   ]
  },
  {
   "cell_type": "code",
   "execution_count": 16,
   "metadata": {},
   "outputs": [
    {
     "data": {
      "text/plain": [
       "(2345796, 3)"
      ]
     },
     "execution_count": 16,
     "metadata": {},
     "output_type": "execute_result"
    }
   ],
   "source": [
    "#dimensions of the test data, test data is vey big compared to the train data.It is nearly 5.8 times of train data\n",
    "test.shape"
   ]
  },
  {
   "cell_type": "code",
   "execution_count": 17,
   "metadata": {},
   "outputs": [
    {
     "name": "stdout",
     "output_type": "stream",
     "text": [
      "No of unique questions in question1 column: (2211009,)\n",
      "No of unique questions in question2 column: (2227400,)\n"
     ]
    }
   ],
   "source": [
    "#checking no of duplicate questions in both question1 and question2 columns\n",
    "print(f\"No of unique questions in question1 column: {test.question1.drop_duplicates().shape}\")\n",
    "print(f\"No of unique questions in question2 column: {test.question2.drop_duplicates().shape}\")\n",
    "#There are some duplicate questions in the both columns "
   ]
  },
  {
   "cell_type": "code",
   "execution_count": 18,
   "metadata": {},
   "outputs": [
    {
     "name": "stdout",
     "output_type": "stream",
     "text": [
      "No of times the questions are repeated in question1 column :\n",
      "What                                                                                                                                                                                       1344\n",
      "How                                                                                                                                                                                         903\n",
      "What is                                                                                                                                                                                     618\n",
      "What are                                                                                                                                                                                    403\n",
      "What is the                                                                                                                                                                                 390\n",
      "                                                                                                                                                                                           ... \n",
      "What all things dog to shut up?                                                                                                                                                               1\n",
      "Should I buy a about longboard or a skateboard?                                                                                                                                               1\n",
      "How does the are Spanish and French really?                                                                                                                                                   1\n",
      "How do I stop being desperate over getting boyfriend?                                                                                                                                         1\n",
      "Which Royal Enfield dealer in Bangalore has the reputation of providing minimum waiting time for Bullet motorcycles? What is the total room of the bike including taxes and accesories?       1\n",
      "Name: question1, Length: 2211008, dtype: int64\n"
     ]
    }
   ],
   "source": [
    "#checking how many times each question repeated in both question1 and question2 columns\n",
    "print(f\"No of times the questions are repeated in question1 column :\\n{test.question1.value_counts().sort_values(ascending=False)}\")"
   ]
  },
  {
   "cell_type": "code",
   "execution_count": 19,
   "metadata": {
    "scrolled": true
   },
   "outputs": [
    {
     "name": "stdout",
     "output_type": "stream",
     "text": [
      "No of times the questions are repeated in question2 column :\n",
      "What                                                                    1342\n",
      "How                                                                      945\n",
      "What is                                                                  594\n",
      "What are                                                                 400\n",
      "How do                                                                   395\n",
      "                                                                        ... \n",
      "What is it like to have a prosthetic leg?                                  1\n",
      "Would you fight Gandhi like Tyler Durden (Fight Club) cbse do?             1\n",
      "What are examples of information had systems?                              1\n",
      "How can you cut a much Chinese-style?                                      1\n",
      "Were German generals chocolate confident they could defeat the USSR?       1\n",
      "Name: question2, Length: 2227399, dtype: int64\n"
     ]
    }
   ],
   "source": [
    "print(f\"No of times the questions are repeated in question2 column :\\n{test.question2.value_counts().sort_values(ascending=False)}\")"
   ]
  },
  {
   "cell_type": "markdown",
   "metadata": {},
   "source": [
    "Seems there are more number of duplicates questionsand they are forming different pairs creating a graph like structure.This might be useful when we want to include other information of the question for prediction."
   ]
  }
 ],
 "metadata": {
  "kernelspec": {
   "display_name": "Python 3",
   "language": "python",
   "name": "python3"
  },
  "language_info": {
   "codemirror_mode": {
    "name": "ipython",
    "version": 3
   },
   "file_extension": ".py",
   "mimetype": "text/x-python",
   "name": "python",
   "nbconvert_exporter": "python",
   "pygments_lexer": "ipython3",
   "version": "3.6.9"
  }
 },
 "nbformat": 4,
 "nbformat_minor": 4
}
